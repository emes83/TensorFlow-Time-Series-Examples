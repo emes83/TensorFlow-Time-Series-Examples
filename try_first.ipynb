{
  "nbformat": 4,
  "nbformat_minor": 0,
  "metadata": {
    "colab": {
      "name": "try first.ipynb",
      "provenance": [],
      "authorship_tag": "ABX9TyNiRJM0GnLY424UlzAkP+k1",
      "include_colab_link": true
    },
    "kernelspec": {
      "name": "python3",
      "display_name": "Python 3"
    }
  },
  "cells": [
    {
      "cell_type": "markdown",
      "metadata": {
        "id": "view-in-github",
        "colab_type": "text"
      },
      "source": [
        "<a href=\"https://colab.research.google.com/github/emes83/TensorFlow-Time-Series-Examples/blob/master/try_first.ipynb\" target=\"_parent\"><img src=\"https://colab.research.google.com/assets/colab-badge.svg\" alt=\"Open In Colab\"/></a>"
      ]
    },
    {
      "cell_type": "code",
      "metadata": {
        "id": "WSe5WZmb9JZi",
        "colab_type": "code",
        "outputId": "f64a9c49-9093-4012-8ad8-b7ac70703673",
        "colab": {
          "base_uri": "https://localhost:8080/",
          "height": 102
        }
      },
      "source": [
        "pip install pandas"
      ],
      "execution_count": 0,
      "outputs": [
        {
          "output_type": "stream",
          "text": [
            "Requirement already satisfied: pandas in /usr/local/lib/python3.6/dist-packages (0.25.3)\n",
            "Requirement already satisfied: pytz>=2017.2 in /usr/local/lib/python3.6/dist-packages (from pandas) (2018.9)\n",
            "Requirement already satisfied: numpy>=1.13.3 in /usr/local/lib/python3.6/dist-packages (from pandas) (1.17.5)\n",
            "Requirement already satisfied: python-dateutil>=2.6.1 in /usr/local/lib/python3.6/dist-packages (from pandas) (2.6.1)\n",
            "Requirement already satisfied: six>=1.5 in /usr/local/lib/python3.6/dist-packages (from python-dateutil>=2.6.1->pandas) (1.12.0)\n"
          ],
          "name": "stdout"
        }
      ]
    },
    {
      "cell_type": "markdown",
      "metadata": {
        "id": "9sJuHgRA9h7n",
        "colab_type": "text"
      },
      "source": [
        ""
      ]
    },
    {
      "cell_type": "code",
      "metadata": {
        "id": "ihJoZyih9aCJ",
        "colab_type": "code",
        "outputId": "c55db82f-06b0-4c07-a4d9-a24e0ea4adc0",
        "colab": {
          "base_uri": "https://localhost:8080/",
          "height": 343
        }
      },
      "source": [
        "pip install fbprophet"
      ],
      "execution_count": 0,
      "outputs": [
        {
          "output_type": "stream",
          "text": [
            "Requirement already satisfied: fbprophet in /usr/local/lib/python3.6/dist-packages (0.5)\n",
            "Requirement already satisfied: numpy>=1.10.0 in /usr/local/lib/python3.6/dist-packages (from fbprophet) (1.17.5)\n",
            "Requirement already satisfied: setuptools-git>=1.2 in /usr/local/lib/python3.6/dist-packages (from fbprophet) (1.2)\n",
            "Requirement already satisfied: pystan>=2.14 in /usr/local/lib/python3.6/dist-packages (from fbprophet) (2.19.1.1)\n",
            "Requirement already satisfied: convertdate>=2.1.2 in /usr/local/lib/python3.6/dist-packages (from fbprophet) (2.2.0)\n",
            "Requirement already satisfied: Cython>=0.22 in /usr/local/lib/python3.6/dist-packages (from fbprophet) (0.29.15)\n",
            "Requirement already satisfied: lunardate>=0.1.5 in /usr/local/lib/python3.6/dist-packages (from fbprophet) (0.2.0)\n",
            "Requirement already satisfied: pandas>=0.23.4 in /usr/local/lib/python3.6/dist-packages (from fbprophet) (0.25.3)\n",
            "Requirement already satisfied: holidays>=0.9.5 in /usr/local/lib/python3.6/dist-packages (from fbprophet) (0.9.12)\n",
            "Requirement already satisfied: matplotlib>=2.0.0 in /usr/local/lib/python3.6/dist-packages (from fbprophet) (3.1.3)\n",
            "Requirement already satisfied: pymeeus<=1,>=0.3.6 in /usr/local/lib/python3.6/dist-packages (from convertdate>=2.1.2->fbprophet) (0.3.6)\n",
            "Requirement already satisfied: pytz<2020,>=2014.10 in /usr/local/lib/python3.6/dist-packages (from convertdate>=2.1.2->fbprophet) (2018.9)\n",
            "Requirement already satisfied: python-dateutil>=2.6.1 in /usr/local/lib/python3.6/dist-packages (from pandas>=0.23.4->fbprophet) (2.6.1)\n",
            "Requirement already satisfied: six in /usr/local/lib/python3.6/dist-packages (from holidays>=0.9.5->fbprophet) (1.12.0)\n",
            "Requirement already satisfied: cycler>=0.10 in /usr/local/lib/python3.6/dist-packages (from matplotlib>=2.0.0->fbprophet) (0.10.0)\n",
            "Requirement already satisfied: kiwisolver>=1.0.1 in /usr/local/lib/python3.6/dist-packages (from matplotlib>=2.0.0->fbprophet) (1.1.0)\n",
            "Requirement already satisfied: pyparsing!=2.0.4,!=2.1.2,!=2.1.6,>=2.0.1 in /usr/local/lib/python3.6/dist-packages (from matplotlib>=2.0.0->fbprophet) (2.4.6)\n",
            "Requirement already satisfied: setuptools in /usr/local/lib/python3.6/dist-packages (from kiwisolver>=1.0.1->matplotlib>=2.0.0->fbprophet) (45.2.0)\n"
          ],
          "name": "stdout"
        }
      ]
    },
    {
      "cell_type": "code",
      "metadata": {
        "id": "am4-cft79TUZ",
        "colab_type": "code",
        "outputId": "91122a51-4869-47d6-d8cd-1e44c8ffff32",
        "colab": {
          "base_uri": "https://localhost:8080/",
          "height": 377
        }
      },
      "source": [
        "pip install tm1py"
      ],
      "execution_count": 0,
      "outputs": [
        {
          "output_type": "stream",
          "text": [
            "Collecting tm1py\n",
            "\u001b[?25l  Downloading https://files.pythonhosted.org/packages/66/d9/268ed93d5bddbc59d41f4c35af89c34534addd6fc33b56d7eef0402998cb/TM1py-1.4.1.tar.gz (151kB)\n",
            "\r\u001b[K     |██▏                             | 10kB 22.3MB/s eta 0:00:01\r\u001b[K     |████▎                           | 20kB 3.2MB/s eta 0:00:01\r\u001b[K     |██████▌                         | 30kB 4.6MB/s eta 0:00:01\r\u001b[K     |████████▋                       | 40kB 3.0MB/s eta 0:00:01\r\u001b[K     |██████████▉                     | 51kB 3.7MB/s eta 0:00:01\r\u001b[K     |█████████████                   | 61kB 4.3MB/s eta 0:00:01\r\u001b[K     |███████████████▏                | 71kB 5.0MB/s eta 0:00:01\r\u001b[K     |█████████████████▎              | 81kB 5.6MB/s eta 0:00:01\r\u001b[K     |███████████████████▌            | 92kB 6.3MB/s eta 0:00:01\r\u001b[K     |█████████████████████▋          | 102kB 4.9MB/s eta 0:00:01\r\u001b[K     |███████████████████████▊        | 112kB 4.9MB/s eta 0:00:01\r\u001b[K     |██████████████████████████      | 122kB 4.9MB/s eta 0:00:01\r\u001b[K     |████████████████████████████    | 133kB 4.9MB/s eta 0:00:01\r\u001b[K     |██████████████████████████████▎ | 143kB 4.9MB/s eta 0:00:01\r\u001b[K     |████████████████████████████████| 153kB 4.9MB/s \n",
            "\u001b[?25hRequirement already satisfied: requests in /usr/local/lib/python3.6/dist-packages (from tm1py) (2.21.0)\n",
            "Requirement already satisfied: pandas in /usr/local/lib/python3.6/dist-packages (from tm1py) (0.25.3)\n",
            "Requirement already satisfied: pytz in /usr/local/lib/python3.6/dist-packages (from tm1py) (2018.9)\n",
            "Requirement already satisfied: certifi>=2017.4.17 in /usr/local/lib/python3.6/dist-packages (from requests->tm1py) (2019.11.28)\n",
            "Requirement already satisfied: chardet<3.1.0,>=3.0.2 in /usr/local/lib/python3.6/dist-packages (from requests->tm1py) (3.0.4)\n",
            "Requirement already satisfied: idna<2.9,>=2.5 in /usr/local/lib/python3.6/dist-packages (from requests->tm1py) (2.8)\n",
            "Requirement already satisfied: urllib3<1.25,>=1.21.1 in /usr/local/lib/python3.6/dist-packages (from requests->tm1py) (1.24.3)\n",
            "Requirement already satisfied: numpy>=1.13.3 in /usr/local/lib/python3.6/dist-packages (from pandas->tm1py) (1.17.5)\n",
            "Requirement already satisfied: python-dateutil>=2.6.1 in /usr/local/lib/python3.6/dist-packages (from pandas->tm1py) (2.6.1)\n",
            "Requirement already satisfied: six>=1.5 in /usr/local/lib/python3.6/dist-packages (from python-dateutil>=2.6.1->pandas->tm1py) (1.12.0)\n",
            "Building wheels for collected packages: tm1py\n",
            "  Building wheel for tm1py (setup.py) ... \u001b[?25l\u001b[?25hdone\n",
            "  Created wheel for tm1py: filename=TM1py-1.4.1-cp36-none-any.whl size=76948 sha256=99c0341fa2211577f1681aeed453005cfddb7cd790dc52d97727eebeac8557a5\n",
            "  Stored in directory: /root/.cache/pip/wheels/7c/fa/08/d56bd0c618b62fa0e0bc1d076cd7478deb25c73a042802eef5\n",
            "Successfully built tm1py\n",
            "Installing collected packages: tm1py\n",
            "Successfully installed tm1py-1.4.1\n"
          ],
          "name": "stdout"
        }
      ]
    }
  ]
}